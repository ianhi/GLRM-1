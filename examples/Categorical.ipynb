{
 "cells": [
  {
   "cell_type": "code",
   "execution_count": 1,
   "metadata": {},
   "outputs": [],
   "source": [
    "%matplotlib inline\n",
    "%load_ext autoreload\n",
    "%autoreload 2\n",
    "import matplotlib.pyplot as plt\n",
    "from sklearn import datasets\n",
    "from matplotlib import rc\n",
    "rc(\"font\", family = \"serif\",size=20)\n",
    "rc(\"figure\",figsize=(9,6))\n",
    "rc(\"figure\",facecolor=\"white\")\n",
    "%config InlineBackend.figure_format = 'retina'\n",
    "\n",
    "import cvxpy as cp\n",
    "import numpy as np\n",
    "\n",
    "from loss import *\n",
    "from reg import *\n",
    "from util import *\n",
    "from glrm2 import *\n"
   ]
  },
  {
   "cell_type": "code",
   "execution_count": 43,
   "metadata": {},
   "outputs": [],
   "source": [
    "m =100\n",
    "n1=1\n",
    "n2=n1+5\n",
    "# n3=n2+0\n",
    "n = n2\n",
    "ktrue=2\n",
    "k=2\n",
    "\n",
    "\n",
    "Xtrue = np.random.randn(m,ktrue)\n",
    "Ytrue = np.random.randn(ktrue,n)\n",
    "A = Xtrue @ Ytrue\n",
    "A[:,n1:n2] = 3*A[:,n1:n2]+1\n",
    "missing_mask,missing_idx = gen_random_missing_mask(A,3,return_indices=True)\n",
    "U = np.random.randn(*A.shape)"
   ]
  },
  {
   "cell_type": "code",
   "execution_count": 44,
   "metadata": {},
   "outputs": [
    {
     "data": {
      "text/plain": [
       "array([[17,  3],\n",
       "       [43,  2],\n",
       "       [ 9,  4]])"
      ]
     },
     "execution_count": 44,
     "metadata": {},
     "output_type": "execute_result"
    }
   ],
   "source": [
    "missing_idx"
   ]
  },
  {
   "cell_type": "code",
   "execution_count": 45,
   "metadata": {},
   "outputs": [],
   "source": [
    "arr =np.round(A[:,1:])\n",
    "arr - arr.min(axis=0)\n",
    "\n",
    "A[:,1:] = np.clip(arr - arr.min(axis=0),a_min=0,a_max=5)"
   ]
  },
  {
   "cell_type": "code",
   "execution_count": 46,
   "metadata": {},
   "outputs": [
    {
     "data": {
      "text/plain": [
       "array([[ 3.1381147 ,  5.        ,  5.        ,  5.        ,  5.        ,\n",
       "         2.        ],\n",
       "       [-0.92124333,  5.        ,  5.        ,  5.        ,  5.        ,\n",
       "         5.        ],\n",
       "       [-2.07853565,  5.        ,  4.        ,  5.        ,  5.        ,\n",
       "         5.        ],\n",
       "       [ 3.76468308,  5.        ,  5.        ,  5.        ,  5.        ,\n",
       "         2.        ],\n",
       "       [-1.07072728,  5.        ,  5.        ,  5.        ,  4.        ,\n",
       "         5.        ],\n",
       "       [ 0.38724275,  5.        ,  5.        ,  5.        ,  5.        ,\n",
       "         5.        ],\n",
       "       [-2.45682169,  5.        ,  3.        ,  4.        ,  5.        ,\n",
       "         5.        ],\n",
       "       [ 3.0435164 ,  5.        ,  5.        ,  5.        ,  4.        ,\n",
       "         3.        ],\n",
       "       [-2.6792628 ,  5.        ,  3.        ,  4.        ,  5.        ,\n",
       "         5.        ],\n",
       "       [ 3.0010654 ,  5.        ,  5.        ,  5.        ,  5.        ,\n",
       "         2.        ],\n",
       "       [-2.6132142 ,  5.        ,  3.        ,  3.        ,  5.        ,\n",
       "         5.        ],\n",
       "       [-3.60486241,  5.        ,  2.        ,  2.        ,  5.        ,\n",
       "         5.        ],\n",
       "       [ 2.47084764,  5.        ,  5.        ,  5.        ,  5.        ,\n",
       "         2.        ],\n",
       "       [-4.12603995,  5.        ,  2.        ,  5.        ,  2.        ,\n",
       "         5.        ],\n",
       "       [-4.42564293,  5.        ,  0.        ,  0.        ,  5.        ,\n",
       "         5.        ],\n",
       "       [ 0.58678137,  5.        ,  5.        ,  5.        ,  3.        ,\n",
       "         5.        ],\n",
       "       [-1.27473436,  5.        ,  5.        ,  5.        ,  5.        ,\n",
       "         5.        ],\n",
       "       [-1.65184946,  5.        ,  4.        ,  5.        ,  5.        ,\n",
       "         5.        ],\n",
       "       [-0.12758714,  5.        ,  5.        ,  5.        ,  5.        ,\n",
       "         5.        ],\n",
       "       [-0.54661691,  5.        ,  5.        ,  5.        ,  5.        ,\n",
       "         5.        ],\n",
       "       [-3.66979044,  5.        ,  2.        ,  4.        ,  4.        ,\n",
       "         5.        ],\n",
       "       [ 0.8619395 ,  5.        ,  5.        ,  5.        ,  5.        ,\n",
       "         5.        ],\n",
       "       [-0.91363208,  5.        ,  5.        ,  5.        ,  5.        ,\n",
       "         5.        ],\n",
       "       [ 1.48992748,  5.        ,  5.        ,  5.        ,  5.        ,\n",
       "         4.        ],\n",
       "       [-2.84888859,  5.        ,  4.        ,  5.        ,  1.        ,\n",
       "         5.        ],\n",
       "       [-0.81376661,  5.        ,  5.        ,  5.        ,  5.        ,\n",
       "         5.        ],\n",
       "       [-3.02027539,  5.        ,  2.        ,  4.        ,  5.        ,\n",
       "         5.        ],\n",
       "       [ 2.06721255,  5.        ,  5.        ,  5.        ,  5.        ,\n",
       "         3.        ],\n",
       "       [ 2.30900577,  5.        ,  5.        ,  5.        ,  5.        ,\n",
       "         3.        ],\n",
       "       [ 0.76071631,  5.        ,  5.        ,  5.        ,  5.        ,\n",
       "         5.        ],\n",
       "       [-2.11930296,  5.        ,  4.        ,  5.        ,  3.        ,\n",
       "         5.        ],\n",
       "       [ 1.04223247,  5.        ,  5.        ,  5.        ,  5.        ,\n",
       "         3.        ],\n",
       "       [ 0.74752667,  5.        ,  5.        ,  5.        ,  5.        ,\n",
       "         5.        ],\n",
       "       [ 0.38816411,  5.        ,  5.        ,  5.        ,  1.        ,\n",
       "         5.        ],\n",
       "       [-3.22611983,  5.        ,  2.        ,  2.        ,  5.        ,\n",
       "         5.        ],\n",
       "       [ 1.55383314,  5.        ,  5.        ,  5.        ,  4.        ,\n",
       "         5.        ],\n",
       "       [-2.09357211,  5.        ,  4.        ,  5.        ,  2.        ,\n",
       "         5.        ],\n",
       "       [ 0.02521595,  5.        ,  5.        ,  5.        ,  5.        ,\n",
       "         5.        ],\n",
       "       [-0.77945106,  5.        ,  5.        ,  5.        ,  5.        ,\n",
       "         5.        ],\n",
       "       [-2.56130397,  5.        ,  3.        ,  5.        ,  5.        ,\n",
       "         5.        ],\n",
       "       [-0.16501665,  5.        ,  5.        ,  5.        ,  5.        ,\n",
       "         5.        ],\n",
       "       [ 0.23204674,  5.        ,  5.        ,  5.        ,  5.        ,\n",
       "         5.        ],\n",
       "       [-2.12272775,  5.        ,  4.        ,  5.        ,  4.        ,\n",
       "         5.        ],\n",
       "       [ 0.7622969 ,  5.        ,  5.        ,  5.        ,  5.        ,\n",
       "         5.        ],\n",
       "       [ 1.94689898,  5.        ,  5.        ,  5.        ,  5.        ,\n",
       "         3.        ],\n",
       "       [ 2.12246031,  5.        ,  5.        ,  5.        ,  5.        ,\n",
       "         3.        ],\n",
       "       [-1.02043814,  5.        ,  5.        ,  5.        ,  3.        ,\n",
       "         5.        ],\n",
       "       [ 0.92067615,  5.        ,  5.        ,  5.        ,  2.        ,\n",
       "         5.        ],\n",
       "       [-1.70895908,  5.        ,  4.        ,  4.        ,  5.        ,\n",
       "         5.        ],\n",
       "       [-1.2676132 ,  5.        ,  4.        ,  5.        ,  5.        ,\n",
       "         5.        ],\n",
       "       [-0.1673681 ,  5.        ,  5.        ,  5.        ,  5.        ,\n",
       "         5.        ],\n",
       "       [ 0.66889824,  5.        ,  5.        ,  5.        ,  5.        ,\n",
       "         4.        ],\n",
       "       [-0.02428019,  5.        ,  5.        ,  5.        ,  5.        ,\n",
       "         5.        ],\n",
       "       [ 0.8419267 ,  5.        ,  5.        ,  5.        ,  5.        ,\n",
       "         5.        ],\n",
       "       [-1.92087132,  5.        ,  4.        ,  5.        ,  5.        ,\n",
       "         5.        ],\n",
       "       [-4.36649341,  5.        ,  1.        ,  2.        ,  5.        ,\n",
       "         5.        ],\n",
       "       [-0.07928512,  5.        ,  5.        ,  5.        ,  5.        ,\n",
       "         5.        ],\n",
       "       [ 1.12981344,  5.        ,  5.        ,  5.        ,  5.        ,\n",
       "         4.        ],\n",
       "       [-1.59397268,  5.        ,  4.        ,  5.        ,  5.        ,\n",
       "         5.        ],\n",
       "       [-0.06653201,  5.        ,  5.        ,  5.        ,  5.        ,\n",
       "         5.        ],\n",
       "       [ 1.74517791,  5.        ,  5.        ,  5.        ,  5.        ,\n",
       "         3.        ],\n",
       "       [-1.39893587,  5.        ,  4.        ,  5.        ,  5.        ,\n",
       "         5.        ],\n",
       "       [-1.50547093,  5.        ,  4.        ,  5.        ,  5.        ,\n",
       "         5.        ],\n",
       "       [-3.37178376,  5.        ,  2.        ,  4.        ,  5.        ,\n",
       "         5.        ],\n",
       "       [-3.23815873,  5.        ,  2.        ,  4.        ,  5.        ,\n",
       "         5.        ],\n",
       "       [ 0.43488888,  5.        ,  5.        ,  5.        ,  5.        ,\n",
       "         5.        ],\n",
       "       [-0.4305316 ,  5.        ,  5.        ,  5.        ,  3.        ,\n",
       "         5.        ],\n",
       "       [ 0.19501532,  5.        ,  5.        ,  5.        ,  5.        ,\n",
       "         5.        ],\n",
       "       [-0.07397512,  5.        ,  5.        ,  5.        ,  4.        ,\n",
       "         5.        ],\n",
       "       [-0.09836655,  5.        ,  5.        ,  5.        ,  3.        ,\n",
       "         5.        ],\n",
       "       [-0.23651254,  5.        ,  5.        ,  5.        ,  3.        ,\n",
       "         5.        ],\n",
       "       [-2.25527721,  5.        ,  3.        ,  4.        ,  5.        ,\n",
       "         5.        ],\n",
       "       [-3.42437033,  5.        ,  2.        ,  5.        ,  4.        ,\n",
       "         5.        ],\n",
       "       [-1.43072161,  5.        ,  4.        ,  5.        ,  5.        ,\n",
       "         5.        ],\n",
       "       [ 1.09514702,  5.        ,  5.        ,  5.        ,  5.        ,\n",
       "         4.        ],\n",
       "       [ 0.83177097,  5.        ,  5.        ,  5.        ,  5.        ,\n",
       "         5.        ],\n",
       "       [-0.31034228,  5.        ,  5.        ,  5.        ,  5.        ,\n",
       "         5.        ],\n",
       "       [-3.86248327,  5.        ,  2.        ,  4.        ,  4.        ,\n",
       "         5.        ],\n",
       "       [-0.46681527,  5.        ,  5.        ,  5.        ,  5.        ,\n",
       "         5.        ],\n",
       "       [ 3.8070886 ,  5.        ,  5.        ,  5.        ,  5.        ,\n",
       "         1.        ],\n",
       "       [-3.13094785,  5.        ,  2.        ,  3.        ,  5.        ,\n",
       "         5.        ],\n",
       "       [-1.98409286,  5.        ,  5.        ,  5.        ,  1.        ,\n",
       "         5.        ],\n",
       "       [ 1.90469242,  5.        ,  5.        ,  5.        ,  4.        ,\n",
       "         4.        ],\n",
       "       [-1.26537034,  5.        ,  4.        ,  5.        ,  5.        ,\n",
       "         5.        ],\n",
       "       [-0.84246948,  5.        ,  5.        ,  5.        ,  5.        ,\n",
       "         5.        ],\n",
       "       [-3.44483986,  5.        ,  3.        ,  5.        ,  2.        ,\n",
       "         5.        ],\n",
       "       [-3.72519817,  5.        ,  1.        ,  2.        ,  5.        ,\n",
       "         5.        ],\n",
       "       [ 3.76827174,  5.        ,  5.        ,  5.        ,  5.        ,\n",
       "         2.        ],\n",
       "       [-3.02361102,  5.        ,  3.        ,  5.        ,  0.        ,\n",
       "         5.        ],\n",
       "       [ 1.18875823,  5.        ,  5.        ,  5.        ,  5.        ,\n",
       "         4.        ],\n",
       "       [-0.83533675,  5.        ,  5.        ,  5.        ,  5.        ,\n",
       "         5.        ],\n",
       "       [ 3.96134976,  5.        ,  5.        ,  5.        ,  5.        ,\n",
       "         0.        ],\n",
       "       [-1.0656982 ,  5.        ,  5.        ,  5.        ,  5.        ,\n",
       "         5.        ],\n",
       "       [ 1.00244451,  0.        ,  5.        ,  4.        ,  5.        ,\n",
       "         2.        ],\n",
       "       [-0.44921955,  5.        ,  5.        ,  5.        ,  4.        ,\n",
       "         5.        ],\n",
       "       [ 0.98993125,  5.        ,  5.        ,  5.        ,  5.        ,\n",
       "         3.        ],\n",
       "       [-3.34821164,  5.        ,  2.        ,  2.        ,  5.        ,\n",
       "         5.        ],\n",
       "       [ 4.29714035,  5.        ,  5.        ,  5.        ,  3.        ,\n",
       "         2.        ],\n",
       "       [ 0.09544614,  5.        ,  5.        ,  5.        ,  5.        ,\n",
       "         5.        ],\n",
       "       [-2.5800878 ,  5.        ,  2.        ,  2.        ,  5.        ,\n",
       "         5.        ]])"
      ]
     },
     "execution_count": 46,
     "metadata": {},
     "output_type": "execute_result"
    }
   ],
   "source": [
    "A"
   ]
  },
  {
   "cell_type": "code",
   "execution_count": 47,
   "metadata": {},
   "outputs": [],
   "source": [
    "loss_list =[\n",
    "    (np.arange(n1),QuadraticLoss()),\n",
    "    (np.arange(n1,n2),OneVsAllLoss())\n",
    "]"
   ]
  },
  {
   "cell_type": "code",
   "execution_count": 53,
   "metadata": {},
   "outputs": [],
   "source": [
    "glrm = GLRM(A,loss_list,5,scale=True)\n",
    "# glrm._equiv_indices()\n",
    "# \n",
    "# glrm."
   ]
  },
  {
   "cell_type": "code",
   "execution_count": 55,
   "metadata": {},
   "outputs": [
    {
     "name": "stdout",
     "output_type": "stream",
     "text": [
      "iter \t objY\n"
     ]
    }
   ],
   "source": [
    "out = glrm.fit()"
   ]
  },
  {
   "cell_type": "code",
   "execution_count": 56,
   "metadata": {},
   "outputs": [
    {
     "data": {
      "image/png": "[encoded data removed]",
      "text/plain": [
       "<Figure size 432x288 with 1 Axes>"
      ]
     },
     "metadata": {
      "image/png": {
       "height": 276,
       "width": 375
      },
      "needs_background": "light"
     },
     "output_type": "display_data"
    }
   ],
   "source": [
    "glrm.plot_convergence()"
   ]
  },
  {
   "cell_type": "code",
   "execution_count": 58,
   "metadata": {},
   "outputs": [
    {
     "name": "stdout",
     "output_type": "stream",
     "text": [
      "iter \t objY\n",
      " 27 \t 8.17"
     ]
    }
   ],
   "source": [
    "glrm.fit(10)"
   ]
  },
  {
   "cell_type": "code",
   "execution_count": 59,
   "metadata": {},
   "outputs": [
    {
     "data": {
      "text/plain": [
       "83"
      ]
     },
     "execution_count": 59,
     "metadata": {},
     "output_type": "execute_result"
    }
   ],
   "source": [
    "np.argmax(np.abs(A[:,0]-glrm.predict()[:,0]))"
   ]
  },
  {
   "cell_type": "code",
   "execution_count": 60,
   "metadata": {},
   "outputs": [
    {
     "data": {
      "text/plain": [
       "0.23204673508936996"
      ]
     },
     "execution_count": 60,
     "metadata": {},
     "output_type": "execute_result"
    }
   ],
   "source": [
    "A[:,0][41]"
   ]
  },
  {
   "cell_type": "code",
   "execution_count": 61,
   "metadata": {},
   "outputs": [
    {
     "data": {
      "text/plain": [
       "0.23204671681525701"
      ]
     },
     "execution_count": 61,
     "metadata": {},
     "output_type": "execute_result"
    }
   ],
   "source": [
    "glrm.predict()[:,0][41]"
   ]
  },
  {
   "cell_type": "code",
   "execution_count": 62,
   "metadata": {},
   "outputs": [
    {
     "data": {
      "text/plain": [
       "array([[17,  3],\n",
       "       [43,  2],\n",
       "       [ 9,  4]])"
      ]
     },
     "execution_count": 62,
     "metadata": {},
     "output_type": "execute_result"
    }
   ],
   "source": [
    "missing_idx\n"
   ]
  },
  {
   "cell_type": "code",
   "execution_count": 66,
   "metadata": {},
   "outputs": [],
   "source": [
    "Z = glrm.Xv.value @ glrm.Yv.value"
   ]
  },
  {
   "cell_type": "code",
   "execution_count": 323,
   "metadata": {},
   "outputs": [
    {
     "name": "stdout",
     "output_type": "stream",
     "text": [
      "[[ 1.72844915]\n",
      " [ 1.25945058]\n",
      " [ 0.61923132]\n",
      " [-0.23424762]\n",
      " [ 0.67291128]\n",
      " [ 0.43760963]\n",
      " [ 1.12536676]\n",
      " [-0.07199904]\n",
      " [ 0.35477988]\n",
      " [ 0.10999883]]\n",
      "[[3]\n",
      " [3]\n",
      " [3]\n",
      " [3]\n",
      " [3]\n",
      " [3]\n",
      " [3]\n",
      " [3]\n",
      " [0]\n",
      " [3]]\n",
      "[[0]\n",
      " [1]\n",
      " [1]\n",
      " [1]\n",
      " [1]\n",
      " [1]\n",
      " [1]\n",
      " [1]\n",
      " [1]\n",
      " [1]]\n"
     ]
    }
   ],
   "source": [
    "for i in range(len(glrm._loss_list)):\n",
    "    cols = glrm.equiv_indices[i]\n",
    "    lf = glrm._loss_list[i][-1]\n",
    "    print(lf.decode(Z[:,cols]+glrm.mu[i]))"
   ]
  },
  {
   "cell_type": "code",
   "execution_count": 319,
   "metadata": {},
   "outputs": [
    {
     "data": {
      "text/plain": [
       "array([ 1.72844915,  1.25945058,  0.61923132, -0.23424762,  0.67291128,\n",
       "        0.43760963,  1.12536676, -0.07199904,  0.35477988,  0.10999883])"
      ]
     },
     "execution_count": 319,
     "metadata": {},
     "output_type": "execute_result"
    }
   ],
   "source": [
    "Z[:,0]+glrm.mu[0]"
   ]
  },
  {
   "cell_type": "code",
   "execution_count": 320,
   "metadata": {},
   "outputs": [
    {
     "data": {
      "text/plain": [
       "array([[-3.5921457 , -1.96067515, -1.96067515,  3.5921457 ],\n",
       "       [-2.32795624, -3.64993172, -3.64993172,  2.32795624],\n",
       "       [-2.41300706, -2.76819575, -2.76819575,  2.41300706],\n",
       "       [-2.8975202 , -2.27570315, -2.27570315,  2.8975202 ],\n",
       "       [-2.39621563, -2.82736806, -2.82736806,  2.39621563],\n",
       "       [-2.48401066, -2.59199565, -2.59199565,  2.48401066],\n",
       "       [-2.32730182, -3.43818027, -3.43818027,  2.32730182],\n",
       "       [-2.78368389, -2.30469379, -2.30469379,  2.78368389],\n",
       "       [ 2.40946256, -2.34668864, -2.34668864, -2.40946256],\n",
       "       [-2.66294882, -2.37227209, -2.37227209,  2.66294882]])"
      ]
     },
     "execution_count": 320,
     "metadata": {},
     "output_type": "execute_result"
    }
   ],
   "source": [
    "Z[:,1:5]+glrm.mu[1]"
   ]
  },
  {
   "cell_type": "code",
   "execution_count": 303,
   "metadata": {},
   "outputs": [
    {
     "name": "stdout",
     "output_type": "stream",
     "text": [
      "Expression(CONVEX, NONNEGATIVE, ())\n",
      "3.4552631657023084e-13\n"
     ]
    }
   ],
   "source": [
    "print(repr(glrm.objY))\n",
    "print(glrm.objY.value)"
   ]
  },
  {
   "cell_type": "code",
   "execution_count": 305,
   "metadata": {},
   "outputs": [
    {
     "data": {
      "text/plain": [
       "[11.015971697224275,\n",
       " 0.05570176404801811,\n",
       " 6.804600069684885e-14,\n",
       " 1.5413733662238583e-14,\n",
       " 9.022512143964937e-14,\n",
       " 8.234343538372046e-15,\n",
       " 6.450772367172125e-14,\n",
       " 3.71818132191443e-14,\n",
       " 5.649387180481796e-14,\n",
       " 3.72059156428762e-16,\n",
       " 7.906798135271001e-16,\n",
       " 3.878770695661036e-13,\n",
       " 3.2547664903607253e-15,\n",
       " 4.70263147100714e-17,\n",
       " 6.342982856517118e-13,\n",
       " 2.316763185433696e-15,\n",
       " 2.5713991728628737e-15,\n",
       " 5.556385522709017e-15,\n",
       " 5.2357685612814546e-15,\n",
       " 6.777325410494869e-15,\n",
       " 3.7696302006358075e-17,\n",
       " 3.490318724155152e-17,\n",
       " 4.439258217370268e-17,\n",
       " 4.3788556480236315e-17,\n",
       " 3.7196525037159246e-17,\n",
       " 8.712070007186504e-15,\n",
       " 3.609917328599789e-15,\n",
       " 5.322743147873027e-16,\n",
       " 2.427460212764945e-15,\n",
       " 2.309630898697473e-13,\n",
       " 9.464367975066599e-13,\n",
       " 1.186986676980998e-12,\n",
       " 2.5990100300988203e-16,\n",
       " 2.5927009675774865e-16,\n",
       " 4.795228785953283e-16,\n",
       " 2.008632900721419e-16,\n",
       " 1.391827449646915e-16,\n",
       " 6.998545226346632e-16,\n",
       " 2.1258492035873013e-15,\n",
       " 3.5588809039508496e-13,\n",
       " 1.532185553570845e-13,\n",
       " 3.8850722592000815e-13,\n",
       " 4.80680802595714e-13,\n",
       " 5.131457932046038e-13,\n",
       " 4.705974564617751e-13,\n",
       " 3.836750026752258e-13,\n",
       " 2.7047723387972293e-13,\n",
       " 1.5769069859212911e-13,\n",
       " 7.214372124075286e-14,\n",
       " 2.410383187587631e-14,\n",
       " 5.468219312013527e-15,\n",
       " 8.086772235493058e-16,\n",
       " 1.5868891398447652e-16,\n",
       " 1.654197467898133e-16,\n",
       " 2.0144026168229514e-16,\n",
       " 2.4571491801548673e-16,\n",
       " 2.9135407891127354e-16,\n",
       " 3.4479493182921464e-16,\n",
       " 4.127874413731436e-16,\n",
       " 5.061430362360477e-16,\n",
       " 6.392497347944306e-16,\n",
       " 8.338589300254519e-16,\n",
       " 1.1227662769366697e-15,\n",
       " 1.5426049785752326e-15,\n",
       " 2.1563117655642527e-15,\n",
       " 3.0618224874478994e-15,\n",
       " 4.339118923012087e-15,\n",
       " 1.4830897901306707e-16,\n",
       " 5.673542336557774e-17,\n",
       " 1.2041348247777702e-15,\n",
       " 7.623453265887463e-15,\n",
       " 3.398962081885751e-13,\n",
       " 1.0016347956223255e-12,\n",
       " 1.4842815238391064e-12,\n",
       " 2.3194890124864295e-15,\n",
       " 7.700199204208007e-16,\n",
       " 6.614468890161018e-16,\n",
       " 1.4638765551321479e-15,\n",
       " 3.1830529736007865e-15,\n",
       " 1.982284151851326e-15,\n",
       " 9.349037208497282e-13,\n",
       " 5.430198495447072e-13,\n",
       " 3.3162139305288087e-13,\n",
       " 1.7731480031169414e-13,\n",
       " 6.518555500508975e-14,\n",
       " 2.427074951503977e-17,\n",
       " 7.991710950979493e-17,\n",
       " 8.048497810134291e-16,\n",
       " 6.592590624274545e-17,\n",
       " 1.491170350828724e-17,\n",
       " 4.24092890153213e-15,\n",
       " 2.9588532425699863e-15,\n",
       " 2.1830277151725337e-16,\n",
       " 6.634519333295764e-17,\n",
       " 4.892991196971359e-17,\n",
       " 4.4388502558659035e-17,\n",
       " 4.856264877118851e-17,\n",
       " 6.266195167794206e-17,\n",
       " 5.867386785633862e-17,\n",
       " 4.1122957430054034e-17,\n",
       " 1.828406437718146e-13,\n",
       " 4.997458105986273e-13,\n",
       " 6.058233807271161e-13,\n",
       " 6.526276647244398e-13,\n",
       " 6.400761276532749e-13,\n",
       " 5.886848743222582e-13,\n",
       " 5.164430859981485e-13,\n",
       " 4.361422801726293e-13,\n",
       " 3.4552631657023084e-13]"
      ]
     },
     "execution_count": 305,
     "metadata": {},
     "output_type": "execute_result"
    }
   ],
   "source": [
    "pX.solve()"
   ]
  },
  {
   "cell_type": "code",
   "execution_count": 295,
   "metadata": {},
   "outputs": [
    {
     "data": {
      "image/png": "[encoded data removed]",
      "text/plain": [
       "<Figure size 432x288 with 1 Axes>"
      ]
     },
     "metadata": {
      "image/png": {
       "height": 276,
       "width": 386
      },
      "needs_background": "light"
     },
     "output_type": "display_data"
    }
   ],
   "source": [
    "glrm.plot_convergence()"
   ]
  },
  {
   "cell_type": "code",
   "execution_count": 307,
   "metadata": {},
   "outputs": [
    {
     "data": {
      "text/plain": [
       "[<matplotlib.lines.Line2D at 0x7f3b0f067828>]"
      ]
     },
     "execution_count": 307,
     "metadata": {},
     "output_type": "execute_result"
    },
    {
     "data": {
      "image/png": "[encoded data removed]",
      "text/plain": [
       "<Figure size 432x288 with 1 Axes>"
      ]
     },
     "metadata": {
      "image/png": {
       "height": 252,
       "width": 386
      },
      "needs_background": "light"
     },
     "output_type": "display_data"
    }
   ],
   "source": [
    "plt.loglog(glrm.vals)"
   ]
  },
  {
   "cell_type": "code",
   "execution_count": 17,
   "metadata": {},
   "outputs": [
    {
     "data": {
      "text/plain": [
       "array([[ 1.72844916,  3.        ,  0.        ],\n",
       "       [ 1.25945058,  3.        ,  1.        ],\n",
       "       [ 0.61923132,  3.        ,  1.        ],\n",
       "       [-0.23424762,  3.        ,  1.        ],\n",
       "       [ 0.67291128,  3.        ,  1.        ],\n",
       "       [ 0.43760963,  3.        ,  1.        ],\n",
       "       [ 1.12536676,  3.        ,  1.        ],\n",
       "       [-0.07199903,  3.        ,  1.        ],\n",
       "       [ 0.35477988,  0.        ,  1.        ],\n",
       "       [ 0.10999883,  3.        ,  1.        ]])"
      ]
     },
     "execution_count": 17,
     "metadata": {},
     "output_type": "execute_result"
    }
   ],
   "source": [
    "A"
   ]
  },
  {
   "cell_type": "code",
   "execution_count": 20,
   "metadata": {},
   "outputs": [],
   "source": [
    "true = np.random.randint(0,5,5)\n",
    "pred = np.random.randint(0,5,5)"
   ]
  },
  {
   "cell_type": "code",
   "execution_count": 8,
   "metadata": {},
   "outputs": [
    {
     "data": {
      "text/plain": [
       "5.432578272783934"
      ]
     },
     "execution_count": 8,
     "metadata": {},
     "output_type": "execute_result"
    }
   ],
   "source": [
    "A[:,0].std()**2"
   ]
  },
  {
   "cell_type": "code",
   "execution_count": 9,
   "metadata": {},
   "outputs": [
    {
     "ename": "SyntaxError",
     "evalue": "unexpected EOF while parsing (<ipython-input-9-329303d3e92f>, line 9)",
     "output_type": "error",
     "traceback": [
      "\u001b[0;36m  File \u001b[0;32m\"<ipython-input-9-329303d3e92f>\"\u001b[0;36m, line \u001b[0;32m9\u001b[0m\n\u001b[0;31m    \u001b[0m\n\u001b[0m    ^\u001b[0m\n\u001b[0;31mSyntaxError\u001b[0m\u001b[0;31m:\u001b[0m unexpected EOF while parsing\n"
     ]
    }
   ],
   "source": [
    "for i in range(len(_loss_list)):\n",
    "    data, mask, loss_fxn = _loss_list[i]\n",
    "    if isinstance(loss_fxn,OneVsAllLoss):\n",
    "        vals, counts = np.unique(A[:,1],return_counts=True)\n",
    "        mu[i] = vals[np.argmax(counts)]\n",
    "        \n",
    "        sigma[i]\n",
    "    else:\n",
    "        "
   ]
  },
  {
   "cell_type": "code",
   "execution_count": 10,
   "metadata": {},
   "outputs": [
    {
     "data": {
      "text/plain": [
       "(array([[-1., -1., -1.,  1.]]), array([[ True,  True,  True],\n",
       "        [ True,  True,  True],\n",
       "        [ True,  True,  True],\n",
       "        [ True,  True,  True],\n",
       "        [ True,  True,  True],\n",
       "        [ True, False,  True],\n",
       "        [False,  True,  True],\n",
       "        [False,  True,  True],\n",
       "        [ True,  True,  True],\n",
       "        [ True,  True,  True]]))"
      ]
     },
     "execution_count": 10,
     "metadata": {},
     "output_type": "execute_result"
    }
   ],
   "source": [
    "_loss_list[1][-1].encode(A[1:2,1:2],missing_mask)"
   ]
  },
  {
   "cell_type": "code",
   "execution_count": 33,
   "metadata": {},
   "outputs": [
    {
     "data": {
      "text/plain": [
       "array([[0.],\n",
       "       [3.],\n",
       "       [3.],\n",
       "       [3.],\n",
       "       [3.],\n",
       "       [3.],\n",
       "       [3.],\n",
       "       [3.],\n",
       "       [3.],\n",
       "       [3.]])"
      ]
     },
     "execution_count": 33,
     "metadata": {},
     "output_type": "execute_result"
    }
   ],
   "source": [
    "A[:,1:2]"
   ]
  },
  {
   "cell_type": "code",
   "execution_count": 46,
   "metadata": {},
   "outputs": [
    {
     "data": {
      "text/plain": [
       "4.0"
      ]
     },
     "execution_count": 46,
     "metadata": {},
     "output_type": "execute_result"
    }
   ],
   "source": [
    "_loss_list[1][-1].calc_scaling(A[:,1:2],missing_mask)\n"
   ]
  },
  {
   "cell_type": "code",
   "execution_count": 42,
   "metadata": {},
   "outputs": [
    {
     "data": {
      "text/plain": [
       "array([[ 1., -1., -1., -1.],\n",
       "       [-1., -1., -1.,  1.],\n",
       "       [-1., -1., -1.,  1.],\n",
       "       [-1., -1., -1.,  1.],\n",
       "       [-1., -1., -1.,  1.],\n",
       "       [-1., -1., -1.,  1.],\n",
       "       [-1., -1., -1.,  1.],\n",
       "       [-1., -1., -1.,  1.],\n",
       "       [-1., -1., -1.,  1.],\n",
       "       [-1., -1., -1.,  1.]])"
      ]
     },
     "execution_count": 42,
     "metadata": {},
     "output_type": "execute_result"
    }
   ],
   "source": [
    "mu = oneHotTransform(np.array([[3]]),max_index =[A[:,1].max()])\n",
    "oneHot = oneHotTransform(A[:,1:2])\n",
    "oneHot"
   ]
  },
  {
   "cell_type": "code",
   "execution_count": null,
   "metadata": {},
   "outputs": [],
   "source": [
    "OneVsAllLoss()(oneHot)"
   ]
  },
  {
   "cell_type": "code",
   "execution_count": 83,
   "metadata": {},
   "outputs": [],
   "source": [
    "a = _loss_list[1][-1]\n",
    "a.calc_scaling()"
   ]
  },
  {
   "cell_type": "code",
   "execution_count": 34,
   "metadata": {},
   "outputs": [
    {
     "data": {
      "text/plain": [
       "array([ 1,  8, 15])"
      ]
     },
     "execution_count": 34,
     "metadata": {},
     "output_type": "execute_result"
    }
   ],
   "source": [
    "equiv_columns = []\n",
    "for i,v in enumerate(_loss_list):\n",
    "    equiv_columns.append(v[0].shape[1])\n",
    "np.cumsum(equiv_columns)"
   ]
  },
  {
   "cell_type": "code",
   "execution_count": 37,
   "metadata": {},
   "outputs": [
    {
     "name": "stdout",
     "output_type": "stream",
     "text": [
      "[[ 0.3480116 ]\n",
      " [ 1.36952025]\n",
      " [ 2.32236907]\n",
      " [ 2.62412021]\n",
      " [-0.4751927 ]\n",
      " [-2.70210125]\n",
      " [-1.75686157]\n",
      " [-4.25326804]\n",
      " [ 0.98961316]\n",
      " [-1.35063465]]\n",
      "[[5]\n",
      " [0]\n",
      " [3]\n",
      " [5]\n",
      " [5]\n",
      " [6]\n",
      " [5]\n",
      " [6]\n",
      " [6]\n",
      " [0]]\n",
      "[[6]\n",
      " [0]\n",
      " [4]\n",
      " [6]\n",
      " [4]\n",
      " [4]\n",
      " [4]\n",
      " [4]\n",
      " [6]\n",
      " [6]]\n"
     ]
    }
   ],
   "source": [
    "for data, mask, loss_fxn in _loss_list:\n",
    "    print(loss_fxn.decode(data))"
   ]
  },
  {
   "cell_type": "code",
   "execution_count": 40,
   "metadata": {},
   "outputs": [
    {
     "data": {
      "text/plain": [
       "array([[ 0.3480116 ,  5.        ,  6.        ],\n",
       "       [ 1.36952025,  0.        ,  0.        ],\n",
       "       [ 2.32236907,  3.        ,  4.        ],\n",
       "       [ 2.62412021,  5.        ,  6.        ],\n",
       "       [-0.4751927 ,  5.        ,  4.        ],\n",
       "       [-2.70210125,  6.        ,  4.        ],\n",
       "       [-1.75686157,  5.        ,  4.        ],\n",
       "       [-4.25326804,  6.        ,  4.        ],\n",
       "       [ 0.98961316,  6.        ,  6.        ],\n",
       "       [-1.35063465,  0.        ,  6.        ]])"
      ]
     },
     "execution_count": 40,
     "metadata": {},
     "output_type": "execute_result"
    }
   ],
   "source": [
    "np.hstack([v[-1].decode(v[0]) for v in _loss_list])"
   ]
  },
  {
   "cell_type": "code",
   "execution_count": null,
   "metadata": {},
   "outputs": [],
   "source": [
    "_loss_list[0]"
   ]
  },
  {
   "cell_type": "code",
   "execution_count": 38,
   "metadata": {},
   "outputs": [
    {
     "name": "stdout",
     "output_type": "stream",
     "text": [
      "[[-1. -1. -1. -1. -1.  1. -1.]\n",
      " [ 1. -1. -1. -1. -1. -1. -1.]\n",
      " [-1. -1. -1.  1. -1. -1. -1.]\n",
      " [-1. -1. -1. -1. -1.  1. -1.]\n",
      " [-1. -1. -1. -1. -1.  1. -1.]\n",
      " [-1. -1. -1. -1. -1. -1.  1.]\n",
      " [-1. -1. -1. -1. -1.  1. -1.]\n",
      " [-1. -1. -1. -1. -1. -1.  1.]\n",
      " [-1. -1. -1. -1. -1. -1.  1.]\n",
      " [ 1. -1. -1. -1. -1. -1. -1.]]\n"
     ]
    },
    {
     "data": {
      "text/plain": [
       "array([5, 0, 3, 5, 5, 6, 5, 6, 6, 0])"
      ]
     },
     "execution_count": 38,
     "metadata": {},
     "output_type": "execute_result"
    }
   ],
   "source": [
    "def decode(A):\n",
    "    print(A)\n",
    "    return np.argmax(A,axis=1)\n",
    "decode(_loss_list[1][0])"
   ]
  },
  {
   "cell_type": "code",
   "execution_count": 39,
   "metadata": {},
   "outputs": [
    {
     "data": {
      "text/plain": [
       "array([3., 3., 2., 0., 2., 3., 3., 2., 3., 2.])"
      ]
     },
     "execution_count": 39,
     "metadata": {},
     "output_type": "execute_result"
    }
   ],
   "source": [
    "A[:,1]"
   ]
  },
  {
   "cell_type": "code",
   "execution_count": null,
   "metadata": {},
   "outputs": [],
   "source": [
    "one_hot_A\n",
    "\n",
    "loss_list = []"
   ]
  },
  {
   "cell_type": "code",
   "execution_count": 93,
   "metadata": {},
   "outputs": [
    {
     "name": "stdout",
     "output_type": "stream",
     "text": [
      "[[ 0.25668006 -2.01128764  0.74011925]\n",
      " [-0.11569469  2.29725728  1.27186054]]\n"
     ]
    }
   ],
   "source": [
    "truth = np.array([[1,-1,-1],\n",
    "                  [-1,1,-1]])\n",
    "\n",
    "U = cp.Variable(truth.shape)\n",
    "U.value = np.random.randn(*truth.shape)\n",
    "print(U.value)\n",
    "guess = np.array([1, -1, 1])\n",
    "ova = OneVsAllLoss()\n",
    "# ova(truth,guess).value"
   ]
  },
  {
   "cell_type": "code",
   "execution_count": 92,
   "metadata": {},
   "outputs": [
    {
     "name": "stdout",
     "output_type": "stream",
     "text": [
      "[ 1 -1]\n",
      "[0. 0.]\n",
      "[ True False]\n",
      "[[ 1.60023997  0.          0.        ]\n",
      " [-1.60023997  0.          0.        ]]\n",
      "[-1  1]\n",
      "[0. 0.]\n",
      "[False  True]\n",
      "[[ 0.         -1.60023997  0.        ]\n",
      " [ 0.          1.60023997  0.        ]]\n",
      "[-1 -1]\n",
      "[0. 0.]\n",
      "[False False]\n"
     ]
    },
    {
     "ename": "ValueError",
     "evalue": "Invalid dimensions (0,).",
     "output_type": "error",
     "traceback": [
      "\u001b[0;31m---------------------------------------------------------------------------\u001b[0m",
      "\u001b[0;31mValueError\u001b[0m                                Traceback (most recent call last)",
      "\u001b[0;32m<ipython-input-92-6909a30bea47>\u001b[0m in \u001b[0;36m<module>\u001b[0;34m()\u001b[0m\n\u001b[1;32m      4\u001b[0m     \u001b[0mobj\u001b[0m \u001b[0;34m=\u001b[0m \u001b[0mcp\u001b[0m\u001b[0;34m.\u001b[0m\u001b[0mMinimize\u001b[0m\u001b[0;34m(\u001b[0m\u001b[0mova\u001b[0m\u001b[0;34m(\u001b[0m\u001b[0mtruth\u001b[0m\u001b[0;34m[\u001b[0m\u001b[0;34m:\u001b[0m\u001b[0;34m,\u001b[0m\u001b[0mc\u001b[0m\u001b[0;34m]\u001b[0m\u001b[0;34m,\u001b[0m\u001b[0mU\u001b[0m\u001b[0;34m[\u001b[0m\u001b[0;34m:\u001b[0m\u001b[0;34m,\u001b[0m\u001b[0mc\u001b[0m\u001b[0;34m]\u001b[0m\u001b[0;34m)\u001b[0m\u001b[0;34m)\u001b[0m\u001b[0;34m\u001b[0m\u001b[0m\n\u001b[1;32m      5\u001b[0m     \u001b[0mprob\u001b[0m \u001b[0;34m=\u001b[0m \u001b[0mcp\u001b[0m\u001b[0;34m.\u001b[0m\u001b[0mProblem\u001b[0m\u001b[0;34m(\u001b[0m\u001b[0mobj\u001b[0m\u001b[0;34m)\u001b[0m\u001b[0;34m\u001b[0m\u001b[0m\n\u001b[0;32m----> 6\u001b[0;31m     \u001b[0mprob\u001b[0m\u001b[0;34m.\u001b[0m\u001b[0msolve\u001b[0m\u001b[0;34m(\u001b[0m\u001b[0;34m)\u001b[0m\u001b[0;34m\u001b[0m\u001b[0m\n\u001b[0m\u001b[1;32m      7\u001b[0m     \u001b[0mprint\u001b[0m\u001b[0;34m(\u001b[0m\u001b[0mU\u001b[0m\u001b[0;34m.\u001b[0m\u001b[0mvalue\u001b[0m\u001b[0;34m)\u001b[0m\u001b[0;34m\u001b[0m\u001b[0m\n\u001b[1;32m      8\u001b[0m \u001b[0;34m\u001b[0m\u001b[0m\n",
      "\u001b[0;32m~/anaconda3/lib/python3.6/site-packages/cvxpy/problems/problem.py\u001b[0m in \u001b[0;36msolve\u001b[0;34m(self, *args, **kwargs)\u001b[0m\n\u001b[1;32m    269\u001b[0m         \u001b[0;32melse\u001b[0m\u001b[0;34m:\u001b[0m\u001b[0;34m\u001b[0m\u001b[0m\n\u001b[1;32m    270\u001b[0m             \u001b[0msolve_func\u001b[0m \u001b[0;34m=\u001b[0m \u001b[0mProblem\u001b[0m\u001b[0;34m.\u001b[0m\u001b[0m_solve\u001b[0m\u001b[0;34m\u001b[0m\u001b[0m\n\u001b[0;32m--> 271\u001b[0;31m         \u001b[0;32mreturn\u001b[0m \u001b[0msolve_func\u001b[0m\u001b[0;34m(\u001b[0m\u001b[0mself\u001b[0m\u001b[0;34m,\u001b[0m \u001b[0;34m*\u001b[0m\u001b[0margs\u001b[0m\u001b[0;34m,\u001b[0m \u001b[0;34m**\u001b[0m\u001b[0mkwargs\u001b[0m\u001b[0;34m)\u001b[0m\u001b[0;34m\u001b[0m\u001b[0m\n\u001b[0m\u001b[1;32m    272\u001b[0m \u001b[0;34m\u001b[0m\u001b[0m\n\u001b[1;32m    273\u001b[0m     \u001b[0;34m@\u001b[0m\u001b[0mclassmethod\u001b[0m\u001b[0;34m\u001b[0m\u001b[0m\n",
      "\u001b[0;32m~/anaconda3/lib/python3.6/site-packages/cvxpy/problems/problem.py\u001b[0m in \u001b[0;36m_solve\u001b[0;34m(self, solver, warm_start, verbose, parallel, gp, **kwargs)\u001b[0m\n\u001b[1;32m    494\u001b[0m \u001b[0;34m\u001b[0m\u001b[0m\n\u001b[1;32m    495\u001b[0m         \u001b[0mdata\u001b[0m\u001b[0;34m,\u001b[0m \u001b[0msolving_inverse_data\u001b[0m \u001b[0;34m=\u001b[0m\u001b[0;31m \u001b[0m\u001b[0;31m\\\u001b[0m\u001b[0;34m\u001b[0m\u001b[0m\n\u001b[0;32m--> 496\u001b[0;31m             \u001b[0mself\u001b[0m\u001b[0;34m.\u001b[0m\u001b[0m_solving_chain\u001b[0m\u001b[0;34m.\u001b[0m\u001b[0mapply\u001b[0m\u001b[0;34m(\u001b[0m\u001b[0mself\u001b[0m\u001b[0;34m.\u001b[0m\u001b[0m_intermediate_problem\u001b[0m\u001b[0;34m)\u001b[0m\u001b[0;34m\u001b[0m\u001b[0m\n\u001b[0m\u001b[1;32m    497\u001b[0m \u001b[0;34m\u001b[0m\u001b[0m\n\u001b[1;32m    498\u001b[0m         solution = self._solving_chain.solve_via_data(self, data,\n",
      "\u001b[0;32m~/anaconda3/lib/python3.6/site-packages/cvxpy/reductions/chain.py\u001b[0m in \u001b[0;36mapply\u001b[0;34m(self, problem)\u001b[0m\n\u001b[1;32m     63\u001b[0m         \u001b[0minverse_data\u001b[0m \u001b[0;34m=\u001b[0m \u001b[0;34m[\u001b[0m\u001b[0;34m]\u001b[0m\u001b[0;34m\u001b[0m\u001b[0m\n\u001b[1;32m     64\u001b[0m         \u001b[0;32mfor\u001b[0m \u001b[0mr\u001b[0m \u001b[0;32min\u001b[0m \u001b[0mself\u001b[0m\u001b[0;34m.\u001b[0m\u001b[0mreductions\u001b[0m\u001b[0;34m:\u001b[0m\u001b[0;34m\u001b[0m\u001b[0m\n\u001b[0;32m---> 65\u001b[0;31m             \u001b[0mproblem\u001b[0m\u001b[0;34m,\u001b[0m \u001b[0minv\u001b[0m \u001b[0;34m=\u001b[0m \u001b[0mr\u001b[0m\u001b[0;34m.\u001b[0m\u001b[0mapply\u001b[0m\u001b[0;34m(\u001b[0m\u001b[0mproblem\u001b[0m\u001b[0;34m)\u001b[0m\u001b[0;34m\u001b[0m\u001b[0m\n\u001b[0m\u001b[1;32m     66\u001b[0m             \u001b[0minverse_data\u001b[0m\u001b[0;34m.\u001b[0m\u001b[0mappend\u001b[0m\u001b[0;34m(\u001b[0m\u001b[0minv\u001b[0m\u001b[0;34m)\u001b[0m\u001b[0;34m\u001b[0m\u001b[0m\n\u001b[1;32m     67\u001b[0m         \u001b[0;32mreturn\u001b[0m \u001b[0mproblem\u001b[0m\u001b[0;34m,\u001b[0m \u001b[0minverse_data\u001b[0m\u001b[0;34m\u001b[0m\u001b[0m\n",
      "\u001b[0;32m~/anaconda3/lib/python3.6/site-packages/cvxpy/reductions/matrix_stuffing.py\u001b[0m in \u001b[0;36mapply\u001b[0;34m(self, problem)\u001b[0m\n\u001b[1;32m     61\u001b[0m         \u001b[0;31m# Form the constraints\u001b[0m\u001b[0;34m\u001b[0m\u001b[0;34m\u001b[0m\u001b[0m\n\u001b[1;32m     62\u001b[0m         \u001b[0mextractor\u001b[0m \u001b[0;34m=\u001b[0m \u001b[0mCoeffExtractor\u001b[0m\u001b[0;34m(\u001b[0m\u001b[0minverse_data\u001b[0m\u001b[0;34m)\u001b[0m\u001b[0;34m\u001b[0m\u001b[0m\n\u001b[0;32m---> 63\u001b[0;31m         \u001b[0mnew_obj\u001b[0m\u001b[0;34m,\u001b[0m \u001b[0mnew_var\u001b[0m\u001b[0;34m,\u001b[0m \u001b[0mr\u001b[0m \u001b[0;34m=\u001b[0m \u001b[0mself\u001b[0m\u001b[0;34m.\u001b[0m\u001b[0mstuffed_objective\u001b[0m\u001b[0;34m(\u001b[0m\u001b[0mproblem\u001b[0m\u001b[0;34m,\u001b[0m \u001b[0mextractor\u001b[0m\u001b[0;34m)\u001b[0m\u001b[0;34m\u001b[0m\u001b[0m\n\u001b[0m\u001b[1;32m     64\u001b[0m         \u001b[0minverse_data\u001b[0m\u001b[0;34m.\u001b[0m\u001b[0mr\u001b[0m \u001b[0;34m=\u001b[0m \u001b[0mr\u001b[0m\u001b[0;34m\u001b[0m\u001b[0m\n\u001b[1;32m     65\u001b[0m         \u001b[0;31m# Lower equality and inequality to Zero and NonPos.\u001b[0m\u001b[0;34m\u001b[0m\u001b[0;34m\u001b[0m\u001b[0m\n",
      "\u001b[0;32m~/anaconda3/lib/python3.6/site-packages/cvxpy/reductions/dcp2cone/cone_matrix_stuffing.py\u001b[0m in \u001b[0;36mstuffed_objective\u001b[0;34m(self, problem, extractor)\u001b[0m\n\u001b[1;32m     43\u001b[0m     \u001b[0;32mdef\u001b[0m \u001b[0mstuffed_objective\u001b[0m\u001b[0;34m(\u001b[0m\u001b[0mself\u001b[0m\u001b[0;34m,\u001b[0m \u001b[0mproblem\u001b[0m\u001b[0;34m,\u001b[0m \u001b[0mextractor\u001b[0m\u001b[0;34m)\u001b[0m\u001b[0;34m:\u001b[0m\u001b[0;34m\u001b[0m\u001b[0m\n\u001b[1;32m     44\u001b[0m         \u001b[0;31m# Extract to c.T * x + r\u001b[0m\u001b[0;34m\u001b[0m\u001b[0;34m\u001b[0m\u001b[0m\n\u001b[0;32m---> 45\u001b[0;31m         \u001b[0mC\u001b[0m\u001b[0;34m,\u001b[0m \u001b[0mR\u001b[0m \u001b[0;34m=\u001b[0m \u001b[0mextractor\u001b[0m\u001b[0;34m.\u001b[0m\u001b[0maffine\u001b[0m\u001b[0;34m(\u001b[0m\u001b[0mproblem\u001b[0m\u001b[0;34m.\u001b[0m\u001b[0mobjective\u001b[0m\u001b[0;34m.\u001b[0m\u001b[0mexpr\u001b[0m\u001b[0;34m)\u001b[0m\u001b[0;34m\u001b[0m\u001b[0m\n\u001b[0m\u001b[1;32m     46\u001b[0m \u001b[0;34m\u001b[0m\u001b[0m\n\u001b[1;32m     47\u001b[0m         \u001b[0mc\u001b[0m \u001b[0;34m=\u001b[0m \u001b[0mC\u001b[0m\u001b[0;34m.\u001b[0m\u001b[0mtoarray\u001b[0m\u001b[0;34m(\u001b[0m\u001b[0;34m)\u001b[0m\u001b[0;34m.\u001b[0m\u001b[0mflatten\u001b[0m\u001b[0;34m(\u001b[0m\u001b[0;34m)\u001b[0m\u001b[0;34m\u001b[0m\u001b[0m\n",
      "\u001b[0;32m~/anaconda3/lib/python3.6/site-packages/cvxpy/utilities/coeff_extractor.py\u001b[0m in \u001b[0;36maffine\u001b[0;34m(self, expr)\u001b[0m\n\u001b[1;32m     75\u001b[0m             \u001b[0mexpr_list\u001b[0m \u001b[0;34m=\u001b[0m \u001b[0;34m[\u001b[0m\u001b[0mexpr\u001b[0m\u001b[0;34m]\u001b[0m\u001b[0;34m\u001b[0m\u001b[0m\n\u001b[1;32m     76\u001b[0m         \u001b[0msize\u001b[0m \u001b[0;34m=\u001b[0m \u001b[0msum\u001b[0m\u001b[0;34m(\u001b[0m\u001b[0;34m[\u001b[0m\u001b[0me\u001b[0m\u001b[0;34m.\u001b[0m\u001b[0msize\u001b[0m \u001b[0;32mfor\u001b[0m \u001b[0me\u001b[0m \u001b[0;32min\u001b[0m \u001b[0mexpr_list\u001b[0m\u001b[0;34m]\u001b[0m\u001b[0;34m)\u001b[0m\u001b[0;34m\u001b[0m\u001b[0m\n\u001b[0;32m---> 77\u001b[0;31m         \u001b[0mop_list\u001b[0m \u001b[0;34m=\u001b[0m \u001b[0;34m[\u001b[0m\u001b[0me\u001b[0m\u001b[0;34m.\u001b[0m\u001b[0mcanonical_form\u001b[0m\u001b[0;34m[\u001b[0m\u001b[0;36m0\u001b[0m\u001b[0;34m]\u001b[0m \u001b[0;32mfor\u001b[0m \u001b[0me\u001b[0m \u001b[0;32min\u001b[0m \u001b[0mexpr_list\u001b[0m\u001b[0;34m]\u001b[0m\u001b[0;34m\u001b[0m\u001b[0m\n\u001b[0m\u001b[1;32m     78\u001b[0m         V, I, J, b = canonInterface.get_problem_matrix(op_list,\n\u001b[1;32m     79\u001b[0m                                                        self.id_map)\n",
      "\u001b[0;32m~/anaconda3/lib/python3.6/site-packages/cvxpy/utilities/coeff_extractor.py\u001b[0m in \u001b[0;36m<listcomp>\u001b[0;34m(.0)\u001b[0m\n\u001b[1;32m     75\u001b[0m             \u001b[0mexpr_list\u001b[0m \u001b[0;34m=\u001b[0m \u001b[0;34m[\u001b[0m\u001b[0mexpr\u001b[0m\u001b[0;34m]\u001b[0m\u001b[0;34m\u001b[0m\u001b[0m\n\u001b[1;32m     76\u001b[0m         \u001b[0msize\u001b[0m \u001b[0;34m=\u001b[0m \u001b[0msum\u001b[0m\u001b[0;34m(\u001b[0m\u001b[0;34m[\u001b[0m\u001b[0me\u001b[0m\u001b[0;34m.\u001b[0m\u001b[0msize\u001b[0m \u001b[0;32mfor\u001b[0m \u001b[0me\u001b[0m \u001b[0;32min\u001b[0m \u001b[0mexpr_list\u001b[0m\u001b[0;34m]\u001b[0m\u001b[0;34m)\u001b[0m\u001b[0;34m\u001b[0m\u001b[0m\n\u001b[0;32m---> 77\u001b[0;31m         \u001b[0mop_list\u001b[0m \u001b[0;34m=\u001b[0m \u001b[0;34m[\u001b[0m\u001b[0me\u001b[0m\u001b[0;34m.\u001b[0m\u001b[0mcanonical_form\u001b[0m\u001b[0;34m[\u001b[0m\u001b[0;36m0\u001b[0m\u001b[0;34m]\u001b[0m \u001b[0;32mfor\u001b[0m \u001b[0me\u001b[0m \u001b[0;32min\u001b[0m \u001b[0mexpr_list\u001b[0m\u001b[0;34m]\u001b[0m\u001b[0;34m\u001b[0m\u001b[0m\n\u001b[0m\u001b[1;32m     78\u001b[0m         V, I, J, b = canonInterface.get_problem_matrix(op_list,\n\u001b[1;32m     79\u001b[0m                                                        self.id_map)\n",
      "\u001b[0;32m~/anaconda3/lib/python3.6/site-packages/cvxpy/utilities/performance_utils.py\u001b[0m in \u001b[0;36m_lazyprop\u001b[0;34m(self)\u001b[0m\n\u001b[1;32m     35\u001b[0m         \"\"\"\n\u001b[1;32m     36\u001b[0m         \u001b[0;32mif\u001b[0m \u001b[0;32mnot\u001b[0m \u001b[0mhasattr\u001b[0m\u001b[0;34m(\u001b[0m\u001b[0mself\u001b[0m\u001b[0;34m,\u001b[0m \u001b[0mattr_name\u001b[0m\u001b[0;34m)\u001b[0m\u001b[0;34m:\u001b[0m\u001b[0;34m\u001b[0m\u001b[0m\n\u001b[0;32m---> 37\u001b[0;31m             \u001b[0msetattr\u001b[0m\u001b[0;34m(\u001b[0m\u001b[0mself\u001b[0m\u001b[0;34m,\u001b[0m \u001b[0mattr_name\u001b[0m\u001b[0;34m,\u001b[0m \u001b[0mfunc\u001b[0m\u001b[0;34m(\u001b[0m\u001b[0mself\u001b[0m\u001b[0;34m)\u001b[0m\u001b[0;34m)\u001b[0m\u001b[0;34m\u001b[0m\u001b[0m\n\u001b[0m\u001b[1;32m     38\u001b[0m         \u001b[0;32mreturn\u001b[0m \u001b[0mgetattr\u001b[0m\u001b[0;34m(\u001b[0m\u001b[0mself\u001b[0m\u001b[0;34m,\u001b[0m \u001b[0mattr_name\u001b[0m\u001b[0;34m)\u001b[0m\u001b[0;34m\u001b[0m\u001b[0m\n\u001b[1;32m     39\u001b[0m     \u001b[0;32mreturn\u001b[0m \u001b[0m_lazyprop\u001b[0m\u001b[0;34m\u001b[0m\u001b[0m\n",
      "\u001b[0;32m~/anaconda3/lib/python3.6/site-packages/cvxpy/utilities/canonical.py\u001b[0m in \u001b[0;36mcanonical_form\u001b[0;34m(self)\u001b[0m\n\u001b[1;32m     37\u001b[0m             \u001b[0mA\u001b[0m \u001b[0mtuple\u001b[0m \u001b[0mof\u001b[0m \u001b[0;34m(\u001b[0m\u001b[0maffine\u001b[0m \u001b[0mexpression\u001b[0m\u001b[0;34m,\u001b[0m \u001b[0;34m[\u001b[0m\u001b[0mconstraints\u001b[0m\u001b[0;34m]\u001b[0m\u001b[0;34m)\u001b[0m\u001b[0;34m.\u001b[0m\u001b[0;34m\u001b[0m\u001b[0m\n\u001b[1;32m     38\u001b[0m         \"\"\"\n\u001b[0;32m---> 39\u001b[0;31m         \u001b[0;32mreturn\u001b[0m \u001b[0mself\u001b[0m\u001b[0;34m.\u001b[0m\u001b[0mcanonicalize\u001b[0m\u001b[0;34m(\u001b[0m\u001b[0;34m)\u001b[0m\u001b[0;34m\u001b[0m\u001b[0m\n\u001b[0m\u001b[1;32m     40\u001b[0m \u001b[0;34m\u001b[0m\u001b[0m\n\u001b[1;32m     41\u001b[0m     \u001b[0;31m# TODO(akshayka): Reocomputing .variables, etc. is expensive.\u001b[0m\u001b[0;34m\u001b[0m\u001b[0;34m\u001b[0m\u001b[0m\n",
      "\u001b[0;32m~/anaconda3/lib/python3.6/site-packages/cvxpy/atoms/atom.py\u001b[0m in \u001b[0;36mcanonicalize\u001b[0;34m(self)\u001b[0m\n\u001b[1;32m    231\u001b[0m             \u001b[0mconstraints\u001b[0m \u001b[0;34m=\u001b[0m \u001b[0;34m[\u001b[0m\u001b[0;34m]\u001b[0m\u001b[0;34m\u001b[0m\u001b[0m\n\u001b[1;32m    232\u001b[0m             \u001b[0;32mfor\u001b[0m \u001b[0marg\u001b[0m \u001b[0;32min\u001b[0m \u001b[0mself\u001b[0m\u001b[0;34m.\u001b[0m\u001b[0margs\u001b[0m\u001b[0;34m:\u001b[0m\u001b[0;34m\u001b[0m\u001b[0m\n\u001b[0;32m--> 233\u001b[0;31m                 \u001b[0mobj\u001b[0m\u001b[0;34m,\u001b[0m \u001b[0mconstr\u001b[0m \u001b[0;34m=\u001b[0m \u001b[0marg\u001b[0m\u001b[0;34m.\u001b[0m\u001b[0mcanonical_form\u001b[0m\u001b[0;34m\u001b[0m\u001b[0m\n\u001b[0m\u001b[1;32m    234\u001b[0m                 \u001b[0marg_objs\u001b[0m\u001b[0;34m.\u001b[0m\u001b[0mappend\u001b[0m\u001b[0;34m(\u001b[0m\u001b[0mobj\u001b[0m\u001b[0;34m)\u001b[0m\u001b[0;34m\u001b[0m\u001b[0m\n\u001b[1;32m    235\u001b[0m                 \u001b[0mconstraints\u001b[0m \u001b[0;34m+=\u001b[0m \u001b[0mconstr\u001b[0m\u001b[0;34m\u001b[0m\u001b[0m\n",
      "\u001b[0;32m~/anaconda3/lib/python3.6/site-packages/cvxpy/utilities/performance_utils.py\u001b[0m in \u001b[0;36m_lazyprop\u001b[0;34m(self)\u001b[0m\n\u001b[1;32m     35\u001b[0m         \"\"\"\n\u001b[1;32m     36\u001b[0m         \u001b[0;32mif\u001b[0m \u001b[0;32mnot\u001b[0m \u001b[0mhasattr\u001b[0m\u001b[0;34m(\u001b[0m\u001b[0mself\u001b[0m\u001b[0;34m,\u001b[0m \u001b[0mattr_name\u001b[0m\u001b[0;34m)\u001b[0m\u001b[0;34m:\u001b[0m\u001b[0;34m\u001b[0m\u001b[0m\n\u001b[0;32m---> 37\u001b[0;31m             \u001b[0msetattr\u001b[0m\u001b[0;34m(\u001b[0m\u001b[0mself\u001b[0m\u001b[0;34m,\u001b[0m \u001b[0mattr_name\u001b[0m\u001b[0;34m,\u001b[0m \u001b[0mfunc\u001b[0m\u001b[0;34m(\u001b[0m\u001b[0mself\u001b[0m\u001b[0;34m)\u001b[0m\u001b[0;34m)\u001b[0m\u001b[0;34m\u001b[0m\u001b[0m\n\u001b[0m\u001b[1;32m     38\u001b[0m         \u001b[0;32mreturn\u001b[0m \u001b[0mgetattr\u001b[0m\u001b[0;34m(\u001b[0m\u001b[0mself\u001b[0m\u001b[0;34m,\u001b[0m \u001b[0mattr_name\u001b[0m\u001b[0;34m)\u001b[0m\u001b[0;34m\u001b[0m\u001b[0m\n\u001b[1;32m     39\u001b[0m     \u001b[0;32mreturn\u001b[0m \u001b[0m_lazyprop\u001b[0m\u001b[0;34m\u001b[0m\u001b[0m\n",
      "\u001b[0;32m~/anaconda3/lib/python3.6/site-packages/cvxpy/utilities/canonical.py\u001b[0m in \u001b[0;36mcanonical_form\u001b[0;34m(self)\u001b[0m\n\u001b[1;32m     37\u001b[0m             \u001b[0mA\u001b[0m \u001b[0mtuple\u001b[0m \u001b[0mof\u001b[0m \u001b[0;34m(\u001b[0m\u001b[0maffine\u001b[0m \u001b[0mexpression\u001b[0m\u001b[0;34m,\u001b[0m \u001b[0;34m[\u001b[0m\u001b[0mconstraints\u001b[0m\u001b[0;34m]\u001b[0m\u001b[0;34m)\u001b[0m\u001b[0;34m.\u001b[0m\u001b[0;34m\u001b[0m\u001b[0m\n\u001b[1;32m     38\u001b[0m         \"\"\"\n\u001b[0;32m---> 39\u001b[0;31m         \u001b[0;32mreturn\u001b[0m \u001b[0mself\u001b[0m\u001b[0;34m.\u001b[0m\u001b[0mcanonicalize\u001b[0m\u001b[0;34m(\u001b[0m\u001b[0;34m)\u001b[0m\u001b[0;34m\u001b[0m\u001b[0m\n\u001b[0m\u001b[1;32m     40\u001b[0m \u001b[0;34m\u001b[0m\u001b[0m\n\u001b[1;32m     41\u001b[0m     \u001b[0;31m# TODO(akshayka): Reocomputing .variables, etc. is expensive.\u001b[0m\u001b[0;34m\u001b[0m\u001b[0;34m\u001b[0m\u001b[0m\n",
      "\u001b[0;32m~/anaconda3/lib/python3.6/site-packages/cvxpy/atoms/atom.py\u001b[0m in \u001b[0;36mcanonicalize\u001b[0;34m(self)\u001b[0m\n\u001b[1;32m    231\u001b[0m             \u001b[0mconstraints\u001b[0m \u001b[0;34m=\u001b[0m \u001b[0;34m[\u001b[0m\u001b[0;34m]\u001b[0m\u001b[0;34m\u001b[0m\u001b[0m\n\u001b[1;32m    232\u001b[0m             \u001b[0;32mfor\u001b[0m \u001b[0marg\u001b[0m \u001b[0;32min\u001b[0m \u001b[0mself\u001b[0m\u001b[0;34m.\u001b[0m\u001b[0margs\u001b[0m\u001b[0;34m:\u001b[0m\u001b[0;34m\u001b[0m\u001b[0m\n\u001b[0;32m--> 233\u001b[0;31m                 \u001b[0mobj\u001b[0m\u001b[0;34m,\u001b[0m \u001b[0mconstr\u001b[0m \u001b[0;34m=\u001b[0m \u001b[0marg\u001b[0m\u001b[0;34m.\u001b[0m\u001b[0mcanonical_form\u001b[0m\u001b[0;34m\u001b[0m\u001b[0m\n\u001b[0m\u001b[1;32m    234\u001b[0m                 \u001b[0marg_objs\u001b[0m\u001b[0;34m.\u001b[0m\u001b[0mappend\u001b[0m\u001b[0;34m(\u001b[0m\u001b[0mobj\u001b[0m\u001b[0;34m)\u001b[0m\u001b[0;34m\u001b[0m\u001b[0m\n\u001b[1;32m    235\u001b[0m                 \u001b[0mconstraints\u001b[0m \u001b[0;34m+=\u001b[0m \u001b[0mconstr\u001b[0m\u001b[0;34m\u001b[0m\u001b[0m\n",
      "\u001b[0;32m~/anaconda3/lib/python3.6/site-packages/cvxpy/utilities/performance_utils.py\u001b[0m in \u001b[0;36m_lazyprop\u001b[0;34m(self)\u001b[0m\n\u001b[1;32m     35\u001b[0m         \"\"\"\n\u001b[1;32m     36\u001b[0m         \u001b[0;32mif\u001b[0m \u001b[0;32mnot\u001b[0m \u001b[0mhasattr\u001b[0m\u001b[0;34m(\u001b[0m\u001b[0mself\u001b[0m\u001b[0;34m,\u001b[0m \u001b[0mattr_name\u001b[0m\u001b[0;34m)\u001b[0m\u001b[0;34m:\u001b[0m\u001b[0;34m\u001b[0m\u001b[0m\n\u001b[0;32m---> 37\u001b[0;31m             \u001b[0msetattr\u001b[0m\u001b[0;34m(\u001b[0m\u001b[0mself\u001b[0m\u001b[0;34m,\u001b[0m \u001b[0mattr_name\u001b[0m\u001b[0;34m,\u001b[0m \u001b[0mfunc\u001b[0m\u001b[0;34m(\u001b[0m\u001b[0mself\u001b[0m\u001b[0;34m)\u001b[0m\u001b[0;34m)\u001b[0m\u001b[0;34m\u001b[0m\u001b[0m\n\u001b[0m\u001b[1;32m     38\u001b[0m         \u001b[0;32mreturn\u001b[0m \u001b[0mgetattr\u001b[0m\u001b[0;34m(\u001b[0m\u001b[0mself\u001b[0m\u001b[0;34m,\u001b[0m \u001b[0mattr_name\u001b[0m\u001b[0;34m)\u001b[0m\u001b[0;34m\u001b[0m\u001b[0m\n\u001b[1;32m     39\u001b[0m     \u001b[0;32mreturn\u001b[0m \u001b[0m_lazyprop\u001b[0m\u001b[0;34m\u001b[0m\u001b[0m\n",
      "\u001b[0;32m~/anaconda3/lib/python3.6/site-packages/cvxpy/utilities/canonical.py\u001b[0m in \u001b[0;36mcanonical_form\u001b[0;34m(self)\u001b[0m\n\u001b[1;32m     37\u001b[0m             \u001b[0mA\u001b[0m \u001b[0mtuple\u001b[0m \u001b[0mof\u001b[0m \u001b[0;34m(\u001b[0m\u001b[0maffine\u001b[0m \u001b[0mexpression\u001b[0m\u001b[0;34m,\u001b[0m \u001b[0;34m[\u001b[0m\u001b[0mconstraints\u001b[0m\u001b[0;34m]\u001b[0m\u001b[0;34m)\u001b[0m\u001b[0;34m.\u001b[0m\u001b[0;34m\u001b[0m\u001b[0m\n\u001b[1;32m     38\u001b[0m         \"\"\"\n\u001b[0;32m---> 39\u001b[0;31m         \u001b[0;32mreturn\u001b[0m \u001b[0mself\u001b[0m\u001b[0;34m.\u001b[0m\u001b[0mcanonicalize\u001b[0m\u001b[0;34m(\u001b[0m\u001b[0;34m)\u001b[0m\u001b[0;34m\u001b[0m\u001b[0m\n\u001b[0m\u001b[1;32m     40\u001b[0m \u001b[0;34m\u001b[0m\u001b[0m\n\u001b[1;32m     41\u001b[0m     \u001b[0;31m# TODO(akshayka): Reocomputing .variables, etc. is expensive.\u001b[0m\u001b[0;34m\u001b[0m\u001b[0;34m\u001b[0m\u001b[0m\n",
      "\u001b[0;32m~/anaconda3/lib/python3.6/site-packages/cvxpy/atoms/atom.py\u001b[0m in \u001b[0;36mcanonicalize\u001b[0;34m(self)\u001b[0m\n\u001b[1;32m    226\u001b[0m             \u001b[0;31m# Non-parameterized expressions are evaluated immediately.\u001b[0m\u001b[0;34m\u001b[0m\u001b[0;34m\u001b[0m\u001b[0m\n\u001b[1;32m    227\u001b[0m             \u001b[0;32melse\u001b[0m\u001b[0;34m:\u001b[0m\u001b[0;34m\u001b[0m\u001b[0m\n\u001b[0;32m--> 228\u001b[0;31m                 \u001b[0;32mreturn\u001b[0m \u001b[0mConstant\u001b[0m\u001b[0;34m(\u001b[0m\u001b[0mself\u001b[0m\u001b[0;34m.\u001b[0m\u001b[0mvalue\u001b[0m\u001b[0;34m)\u001b[0m\u001b[0;34m.\u001b[0m\u001b[0mcanonical_form\u001b[0m\u001b[0;34m\u001b[0m\u001b[0m\n\u001b[0m\u001b[1;32m    229\u001b[0m         \u001b[0;32melse\u001b[0m\u001b[0;34m:\u001b[0m\u001b[0;34m\u001b[0m\u001b[0m\n\u001b[1;32m    230\u001b[0m             \u001b[0marg_objs\u001b[0m \u001b[0;34m=\u001b[0m \u001b[0;34m[\u001b[0m\u001b[0;34m]\u001b[0m\u001b[0;34m\u001b[0m\u001b[0m\n",
      "\u001b[0;32m~/anaconda3/lib/python3.6/site-packages/cvxpy/expressions/constants/constant.py\u001b[0m in \u001b[0;36m__init__\u001b[0;34m(self, value)\u001b[0m\n\u001b[1;32m     49\u001b[0m         \u001b[0mself\u001b[0m\u001b[0;34m.\u001b[0m\u001b[0m_herm\u001b[0m \u001b[0;34m=\u001b[0m \u001b[0;32mNone\u001b[0m\u001b[0;34m\u001b[0m\u001b[0m\n\u001b[1;32m     50\u001b[0m         \u001b[0mself\u001b[0m\u001b[0;34m.\u001b[0m\u001b[0m_eigvals\u001b[0m \u001b[0;34m=\u001b[0m \u001b[0;32mNone\u001b[0m\u001b[0;34m\u001b[0m\u001b[0m\n\u001b[0;32m---> 51\u001b[0;31m         \u001b[0msuper\u001b[0m\u001b[0;34m(\u001b[0m\u001b[0mConstant\u001b[0m\u001b[0;34m,\u001b[0m \u001b[0mself\u001b[0m\u001b[0;34m)\u001b[0m\u001b[0;34m.\u001b[0m\u001b[0m__init__\u001b[0m\u001b[0;34m(\u001b[0m\u001b[0mintf\u001b[0m\u001b[0;34m.\u001b[0m\u001b[0mshape\u001b[0m\u001b[0;34m(\u001b[0m\u001b[0mself\u001b[0m\u001b[0;34m.\u001b[0m\u001b[0mvalue\u001b[0m\u001b[0;34m)\u001b[0m\u001b[0;34m)\u001b[0m\u001b[0;34m\u001b[0m\u001b[0m\n\u001b[0m\u001b[1;32m     52\u001b[0m \u001b[0;34m\u001b[0m\u001b[0m\n\u001b[1;32m     53\u001b[0m     \u001b[0;32mdef\u001b[0m \u001b[0mname\u001b[0m\u001b[0;34m(\u001b[0m\u001b[0mself\u001b[0m\u001b[0;34m)\u001b[0m\u001b[0;34m:\u001b[0m\u001b[0;34m\u001b[0m\u001b[0m\n",
      "\u001b[0;32m~/anaconda3/lib/python3.6/site-packages/cvxpy/expressions/leaf.py\u001b[0m in \u001b[0;36m__init__\u001b[0;34m(self, shape, value, nonneg, nonpos, complex, imag, symmetric, diag, PSD, NSD, hermitian, boolean, integer, sparsity, pos, neg)\u001b[0m\n\u001b[1;32m     94\u001b[0m         \u001b[0;32mfor\u001b[0m \u001b[0md\u001b[0m \u001b[0;32min\u001b[0m \u001b[0mshape\u001b[0m\u001b[0;34m:\u001b[0m\u001b[0;34m\u001b[0m\u001b[0m\n\u001b[1;32m     95\u001b[0m             \u001b[0;32mif\u001b[0m \u001b[0;32mnot\u001b[0m \u001b[0misinstance\u001b[0m\u001b[0;34m(\u001b[0m\u001b[0md\u001b[0m\u001b[0;34m,\u001b[0m \u001b[0mnumbers\u001b[0m\u001b[0;34m.\u001b[0m\u001b[0mIntegral\u001b[0m\u001b[0;34m)\u001b[0m \u001b[0;32mor\u001b[0m \u001b[0md\u001b[0m \u001b[0;34m<=\u001b[0m \u001b[0;36m0\u001b[0m\u001b[0;34m:\u001b[0m\u001b[0;34m\u001b[0m\u001b[0m\n\u001b[0;32m---> 96\u001b[0;31m                 \u001b[0;32mraise\u001b[0m \u001b[0mValueError\u001b[0m\u001b[0;34m(\u001b[0m\u001b[0;34m\"Invalid dimensions %s.\"\u001b[0m \u001b[0;34m%\u001b[0m \u001b[0;34m(\u001b[0m\u001b[0mshape\u001b[0m\u001b[0;34m,\u001b[0m\u001b[0;34m)\u001b[0m\u001b[0;34m)\u001b[0m\u001b[0;34m\u001b[0m\u001b[0m\n\u001b[0m\u001b[1;32m     97\u001b[0m         \u001b[0mself\u001b[0m\u001b[0;34m.\u001b[0m\u001b[0m_shape\u001b[0m \u001b[0;34m=\u001b[0m \u001b[0mtuple\u001b[0m\u001b[0;34m(\u001b[0m\u001b[0mnp\u001b[0m\u001b[0;34m.\u001b[0m\u001b[0mint32\u001b[0m\u001b[0;34m(\u001b[0m\u001b[0md\u001b[0m\u001b[0;34m)\u001b[0m \u001b[0;32mfor\u001b[0m \u001b[0md\u001b[0m \u001b[0;32min\u001b[0m \u001b[0mshape\u001b[0m\u001b[0;34m)\u001b[0m\u001b[0;34m\u001b[0m\u001b[0m\n\u001b[1;32m     98\u001b[0m \u001b[0;34m\u001b[0m\u001b[0m\n",
      "\u001b[0;31mValueError\u001b[0m: Invalid dimensions (0,)."
     ]
    }
   ],
   "source": [
    "for c in [0,1,2]:\n",
    "    print(truth[:,c])\n",
    "    print(U[:,c].value)\n",
    "    obj = cp.Minimize(ova(truth[:,c],U[:,c]))\n",
    "    prob = cp.Problem(obj)\n",
    "    prob.solve()\n",
    "    print(U.value)\n",
    "    "
   ]
  },
  {
   "cell_type": "code",
   "execution_count": 20,
   "metadata": {},
   "outputs": [
    {
     "data": {
      "text/plain": [
       "array([[ 1., -1., -1.],\n",
       "       [-1.,  1., -1.],\n",
       "       [-1., -1.,  1.]])"
      ]
     },
     "execution_count": 20,
     "metadata": {},
     "output_type": "execute_result"
    }
   ],
   "source": [
    "arr = -np.ones((3,3))\n",
    "arr[np.diag_indices_from(arr)]=1\n",
    "arr"
   ]
  },
  {
   "cell_type": "code",
   "execution_count": null,
   "metadata": {},
   "outputs": [],
   "source": [
    "bbb"
   ]
  },
  {
   "cell_type": "code",
   "execution_count": null,
   "metadata": {},
   "outputs": [],
   "source": []
  },
  {
   "cell_type": "code",
   "execution_count": 73,
   "metadata": {},
   "outputs": [
    {
     "data": {
      "text/plain": [
       "[array(0.60015508), array([[-1., -1., -1.,  1.],\n",
       "        [-1., -1., -1.,  1.],\n",
       "        [-1., -1., -1.,  1.],\n",
       "        [-1., -1., -1.,  1.],\n",
       "        [-1., -1., -1.,  1.],\n",
       "        [-1., -1., -1.,  1.],\n",
       "        [-1., -1., -1.,  1.],\n",
       "        [-1., -1., -1.,  1.],\n",
       "        [-1., -1., -1.,  1.],\n",
       "        [-1., -1., -1.,  1.]]), array([[-1.,  1.],\n",
       "        [-1.,  1.],\n",
       "        [-1.,  1.],\n",
       "        [-1.,  1.],\n",
       "        [-1.,  1.],\n",
       "        [-1.,  1.],\n",
       "        [-1.,  1.],\n",
       "        [-1.,  1.],\n",
       "        [-1.,  1.],\n",
       "        [-1.,  1.]])]"
      ]
     },
     "execution_count": 73,
     "metadata": {},
     "output_type": "execute_result"
    }
   ],
   "source": [
    "glrm.mu"
   ]
  },
  {
   "cell_type": "code",
   "execution_count": 72,
   "metadata": {},
   "outputs": [
    {
     "data": {
      "text/plain": [
       "[0.346412493665681, 0.4, 0.4]"
      ]
     },
     "execution_count": 72,
     "metadata": {},
     "output_type": "execute_result"
    }
   ],
   "source": [
    "glrm.sigma"
   ]
  },
  {
   "cell_type": "code",
   "execution_count": 280,
   "metadata": {},
   "outputs": [],
   "source": [
    "m =A.shape[0]\n",
    "n = glrm.equiv_indices[-1][-1]+1\n",
    "k=4\n",
    "Xv = cp.Variable((m,k))\n",
    "Xp = cp.Parameter((m,k))\n",
    "\n",
    "\n",
    "Yv = cp.Variable((k,n))\n",
    "Yp = cp.Parameter((k,n))\n",
    "\n",
    "Xv.value = np.random.rand(m,k)\n",
    "Yp.value = np.random.rand(k,n)\n",
    "\n",
    "Xp.value = np.random.rand(m,k)\n",
    "Yv.value = np.random.rand(k,n)\n",
    "# objX = "
   ]
  },
  {
   "cell_type": "code",
   "execution_count": 281,
   "metadata": {},
   "outputs": [
    {
     "name": "stdout",
     "output_type": "stream",
     "text": [
      "[0]\n",
      "[1 2 3 4]\n",
      "[5 6]\n"
     ]
    }
   ],
   "source": [
    "Zx = Xv @ Yp\n",
    "Zy = Xp @ Yv\n",
    "objX = 0\n",
    "objY=0\n",
    "for i,(data, mask, loss_fxn) in enumerate(glrm._loss_list):\n",
    "    cols = glrm.equiv_indices[i]\n",
    "    print(cols)\n",
    "    objX+= loss_fxn(data[mask],(Zx[:,cols]+glrm.mu[i])[mask])/glrm.sigma[i]\n",
    "    objY+= loss_fxn(data[mask],(Zy[:,cols]+glrm.mu[i])[mask])/glrm.sigma[i]\n",
    "#     if i==1:\n",
    "#         break\n",
    "\n",
    "#     objX = loss_fxn(data[mas])\n",
    "objX += QuadraticReg(nu=.0001)(Xv)\n",
    "objY += QuadraticReg(nu=.0001)(Yv)\n",
    "pX = cp.Problem(cp.Minimize(objX))\n",
    "pY = cp.Problem(cp.Minimize(objY))"
   ]
  },
  {
   "cell_type": "code",
   "execution_count": 282,
   "metadata": {},
   "outputs": [],
   "source": [
    "for i in range(100):\n",
    "    pX.solve(cp.ECOS)\n",
    "    pY.solve(cp.ECOS)"
   ]
  },
  {
   "cell_type": "code",
   "execution_count": 283,
   "metadata": {},
   "outputs": [
    {
     "data": {
      "text/plain": [
       "0.012526298793072344"
      ]
     },
     "execution_count": 283,
     "metadata": {},
     "output_type": "execute_result"
    }
   ],
   "source": [
    "pX.solve()"
   ]
  },
  {
   "cell_type": "code",
   "execution_count": 284,
   "metadata": {},
   "outputs": [
    {
     "data": {
      "text/plain": [
       "(10, 7)"
      ]
     },
     "execution_count": 284,
     "metadata": {},
     "output_type": "execute_result"
    }
   ],
   "source": [
    "Z=(Xv.value @ Yp.value)\n",
    "Z.shape"
   ]
  },
  {
   "cell_type": "code",
   "execution_count": 285,
   "metadata": {},
   "outputs": [
    {
     "data": {
      "text/plain": [
       "array([ 1.7279309 ,  1.2592922 ,  0.61922264, -0.23355208,  0.67289909,\n",
       "        0.43777232,  1.12524124, -0.07138118,  0.35412157,  0.11044602])"
      ]
     },
     "execution_count": 285,
     "metadata": {},
     "output_type": "execute_result"
    }
   ],
   "source": [
    "Z[:,0]+glrm.mu[0]"
   ]
  },
  {
   "cell_type": "code",
   "execution_count": 286,
   "metadata": {},
   "outputs": [
    {
     "data": {
      "text/plain": [
       "array([3, 3, 3, 3, 3, 3, 3, 3, 0, 3])"
      ]
     },
     "execution_count": 286,
     "metadata": {},
     "output_type": "execute_result"
    }
   ],
   "source": [
    "np.argmax(Z[:,1:5]+glrm.mu[1],axis=1)"
   ]
  },
  {
   "cell_type": "code",
   "execution_count": 287,
   "metadata": {},
   "outputs": [
    {
     "data": {
      "text/plain": [
       "array([0, 1, 1, 1, 1, 1, 1, 1, 1, 1])"
      ]
     },
     "execution_count": 287,
     "metadata": {},
     "output_type": "execute_result"
    }
   ],
   "source": [
    "np.argmax(Z[:,5:]+glrm.mu[2],axis=1)"
   ]
  },
  {
   "cell_type": "code",
   "execution_count": 288,
   "metadata": {},
   "outputs": [
    {
     "data": {
      "text/plain": [
       "array([[ 1.72844916,  3.        ,  0.        ],\n",
       "       [ 1.25945058,  3.        ,  1.        ],\n",
       "       [ 0.61923132,  3.        ,  1.        ],\n",
       "       [-0.23424762,  3.        ,  1.        ],\n",
       "       [ 0.67291128,  3.        ,  1.        ],\n",
       "       [ 0.43760963,  3.        ,  1.        ],\n",
       "       [ 1.12536676,  3.        ,  1.        ],\n",
       "       [-0.07199903,  3.        ,  1.        ],\n",
       "       [ 0.35477988,  0.        ,  1.        ],\n",
       "       [ 0.10999883,  3.        ,  1.        ]])"
      ]
     },
     "execution_count": 288,
     "metadata": {},
     "output_type": "execute_result"
    }
   ],
   "source": [
    "A"
   ]
  },
  {
   "cell_type": "code",
   "execution_count": 289,
   "metadata": {},
   "outputs": [
    {
     "data": {
      "text/plain": [
       "4"
      ]
     },
     "execution_count": 289,
     "metadata": {},
     "output_type": "execute_result"
    }
   ],
   "source": [
    "np.linalg.matrix_rank(np.hstack([a[0] for a in glrm._loss_list]))"
   ]
  },
  {
   "cell_type": "markdown",
   "metadata": {},
   "source": [
    "## One hot encoding increased the rank of the matrix?"
   ]
  },
  {
   "cell_type": "code",
   "execution_count": null,
   "metadata": {},
   "outputs": [],
   "source": []
  }
 ],
 "metadata": {
  "kernelspec": {
   "display_name": "Python 3",
   "language": "python",
   "name": "python3"
  },
  "language_info": {
   "codemirror_mode": {
    "name": "ipython",
    "version": 3
   },
   "file_extension": ".py",
   "mimetype": "text/x-python",
   "name": "python",
   "nbconvert_exporter": "python",
   "pygments_lexer": "ipython3",
   "version": "3.6.3"
  }
 },
 "nbformat": 4,
 "nbformat_minor": 2
}
